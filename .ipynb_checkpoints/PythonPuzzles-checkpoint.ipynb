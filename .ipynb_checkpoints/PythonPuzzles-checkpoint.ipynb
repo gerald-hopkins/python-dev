{
 "cells": [
  {
   "cell_type": "code",
   "execution_count": 4,
   "id": "01bb581a-79a1-456a-8e41-b7dcd781d758",
   "metadata": {},
   "outputs": [
    {
     "name": "stdout",
     "output_type": "stream",
     "text": [
      "20\n"
     ]
    }
   ],
   "source": [
    "# Write python to parse a list of numbers to get a sum of all even numbers\n",
    "# Define a list of numbers\n",
    "numbers = [1,2,3,4,5,6,7,8,9]\n",
    "\n",
    "# Initialize a variable to store the sum of the even numbers\n",
    "even_sum = 0\n",
    "\n",
    "# Loop through the list and add the even numbers\n",
    "for i in numbers:\n",
    "    # check if the number is even\n",
    "    if i % 2 == 0:\n",
    "        even_sum += i\n",
    "\n",
    "print(even_sum)"
   ]
  },
  {
   "cell_type": "code",
   "execution_count": 12,
   "id": "6fb05d7d-ebf3-4c1c-9933-e6fcbc1dfd73",
   "metadata": {},
   "outputs": [
    {
     "name": "stdout",
     "output_type": "stream",
     "text": [
      "The longest word is 'strawberry' with a length of 10.\n"
     ]
    }
   ],
   "source": [
    "# Write a Python program that takes a list of words and prints the longest word along with its length.\n",
    "\n",
    "# Define a list of words\n",
    "words = [\"apple\",\"banana\",\"strawberry\",\"blueberry\",\"kiwi\"]\n",
    "\n",
    "# Initialize variables to store the longest word and its length\n",
    "longest = \"\"\n",
    "max_length = 0\n",
    "\n",
    "# Loop through each word in the list checking length\n",
    "for i in words:\n",
    "    if len(i) > max_length:\n",
    "        longest = i\n",
    "        max_length = len(i)\n",
    "\n",
    "# show results\n",
    "print(f\"The longest word is '{longest}' with a length of {max_length}.\")"
   ]
  },
  {
   "cell_type": "code",
   "execution_count": 17,
   "id": "47d796b1-2eb9-4075-941f-f3086cd8fa96",
   "metadata": {},
   "outputs": [
    {
     "name": "stdin",
     "output_type": "stream",
     "text": [
      "Enter a number:   100\n"
     ]
    },
    {
     "name": "stdout",
     "output_type": "stream",
     "text": [
      "This number 100 is even.\n"
     ]
    }
   ],
   "source": [
    "# Write a Python program that asks the user for a number and determines whether it is even or odd.\n",
    "\n",
    "# prompt user to enter a number\n",
    "number = int(input('Enter a number:  '))\n",
    "\n",
    "# test whether number is easy or odd\n",
    "if number % 2 == 0:\n",
    "    print(f'This number {number} is even.')\n",
    "else:\n",
    "    print(f'This number {number} is odd.')\n",
    "\n"
   ]
  },
  {
   "cell_type": "code",
   "execution_count": 18,
   "id": "3d584d25-bbf9-4bc8-853c-046ff285eb78",
   "metadata": {},
   "outputs": [
    {
     "name": "stdin",
     "output_type": "stream",
     "text": [
      "Enter a string:    history\n"
     ]
    },
    {
     "name": "stdout",
     "output_type": "stream",
     "text": [
      "This is the reversed string 'yrotsih'.\n"
     ]
    }
   ],
   "source": [
    "#Write a Python program that reverses a string provided by the user.\n",
    "\n",
    "# get user to enter a string\n",
    "a = input('Enter a string:   ')\n",
    "\n",
    "# reverse the string\n",
    "b = a[::-1]\n",
    "\n",
    "print(f\"This is the reversed string '{b}'.\")"
   ]
  },
  {
   "cell_type": "code",
   "execution_count": 20,
   "id": "c7b2a820-a7de-4359-99ba-2da014848b6c",
   "metadata": {},
   "outputs": [
    {
     "name": "stdin",
     "output_type": "stream",
     "text": [
      "Enter a whole number:   10\n",
      "Enter another whole number:   8\n",
      "Enter an operation:   -\n"
     ]
    },
    {
     "name": "stdout",
     "output_type": "stream",
     "text": [
      "The result of 10 - 8 is 2.\n"
     ]
    }
   ],
   "source": [
    "# enter two numbers and choose a basic arithmetic operation and return correct answer\n",
    "\n",
    "# get two numbers and arithmetic operation\n",
    "a = int(input('Enter a whole number:  '))\n",
    "b = int(input('Enter another whole number:  '))\n",
    "c = input('Enter an operation:  ')\n",
    "\n",
    "# check conditions\n",
    "if c == '*':\n",
    "    result = a*b\n",
    "if c == '/':\n",
    "    result = a/b\n",
    "if c == '+':\n",
    "    result = a+b\n",
    "if c == '-':\n",
    "    result = a-b\n",
    "\n",
    "print(f\"The result of {a} {c} {b} is {result}.\")"
   ]
  },
  {
   "cell_type": "code",
   "execution_count": null,
   "id": "1908a5a6-3397-4033-a1b5-968a5e78b3d2",
   "metadata": {},
   "outputs": [],
   "source": []
  }
 ],
 "metadata": {
  "kernelspec": {
   "display_name": "Python 3 (ipykernel)",
   "language": "python",
   "name": "python3"
  },
  "language_info": {
   "codemirror_mode": {
    "name": "ipython",
    "version": 3
   },
   "file_extension": ".py",
   "mimetype": "text/x-python",
   "name": "python",
   "nbconvert_exporter": "python",
   "pygments_lexer": "ipython3",
   "version": "3.12.6"
  }
 },
 "nbformat": 4,
 "nbformat_minor": 5
}
