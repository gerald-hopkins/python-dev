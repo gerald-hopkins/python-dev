{
 "cells": [
  {
   "cell_type": "code",
   "execution_count": 3,
   "id": "144a2a49-b157-473a-b1e6-96e49e1ffedd",
   "metadata": {},
   "outputs": [
    {
     "name": "stdout",
     "output_type": "stream",
     "text": [
      "Welcome to the number guessing game!\n",
      "I'm thinking of a number between 1 and 100.\n"
     ]
    },
    {
     "name": "stdin",
     "output_type": "stream",
     "text": [
      "Guess the number:   0\n"
     ]
    },
    {
     "name": "stdout",
     "output_type": "stream",
     "text": [
      "Too low! Try again.\n"
     ]
    },
    {
     "name": "stdin",
     "output_type": "stream",
     "text": [
      "Guess the number:   200\n"
     ]
    },
    {
     "name": "stdout",
     "output_type": "stream",
     "text": [
      "Too high! Try again.\n"
     ]
    },
    {
     "name": "stdin",
     "output_type": "stream",
     "text": [
      "Guess the number:   -5\n"
     ]
    },
    {
     "name": "stdout",
     "output_type": "stream",
     "text": [
      "Too low! Try again.\n"
     ]
    },
    {
     "name": "stdin",
     "output_type": "stream",
     "text": [
      "Guess the number:   78\n"
     ]
    },
    {
     "name": "stdout",
     "output_type": "stream",
     "text": [
      "Too low! Try again.\n"
     ]
    },
    {
     "name": "stdin",
     "output_type": "stream",
     "text": [
      "Guess the number:   90\n"
     ]
    },
    {
     "name": "stdout",
     "output_type": "stream",
     "text": [
      "Too high! Try again.\n"
     ]
    },
    {
     "name": "stdin",
     "output_type": "stream",
     "text": [
      "Guess the number:   87\n"
     ]
    },
    {
     "name": "stdout",
     "output_type": "stream",
     "text": [
      "Too high! Try again.\n"
     ]
    },
    {
     "name": "stdin",
     "output_type": "stream",
     "text": [
      "Guess the number:   80\n"
     ]
    },
    {
     "name": "stdout",
     "output_type": "stream",
     "text": [
      "Too low! Try again.\n"
     ]
    },
    {
     "name": "stdin",
     "output_type": "stream",
     "text": [
      "Guess the number:   81\n"
     ]
    },
    {
     "name": "stdout",
     "output_type": "stream",
     "text": [
      "Too low! Try again.\n"
     ]
    },
    {
     "name": "stdin",
     "output_type": "stream",
     "text": [
      "Guess the number:   83\n"
     ]
    },
    {
     "name": "stdout",
     "output_type": "stream",
     "text": [
      "Congratulations! You guessed it in 9 tries!\n"
     ]
    }
   ],
   "source": [
    "# guess a number between 1 and 100\n",
    "\n",
    "import random\n",
    "\n",
    "def number_guessing_game():\n",
    "    \n",
    "    print('Welcome to the number guessing game!')\n",
    "    print(\"I'm thinking of a number between 1 and 100.\")\n",
    "    \n",
    "    my_num = random.randint(1,100)\n",
    "    \n",
    "    # initialize variable\n",
    "    guesses = 0\n",
    "\n",
    "    while True:\n",
    "        \n",
    "        # guess the number\n",
    "        try:\n",
    "            your_num = int(input('Guess the number:  '))\n",
    "        except ValueError:\n",
    "            print('Please enter a valid number.')\n",
    "            continue\n",
    "    \n",
    "        guesses += 1\n",
    "    \n",
    "        # check the guess\n",
    "        if your_num < my_num:\n",
    "            print('Too low! Try again.')\n",
    "        elif your_num > my_num:\n",
    "            print('Too high! Try again.')\n",
    "        else:\n",
    "            print(f'Congratulations! You guessed it in {guesses} tries!')\n",
    "            break\n",
    "\n",
    "# run the game\n",
    "number_guessing_game()"
   ]
  },
  {
   "cell_type": "code",
   "execution_count": 5,
   "id": "3ca95231-f77c-48d7-85d0-e18eddb9e934",
   "metadata": {},
   "outputs": [
    {
     "name": "stdin",
     "output_type": "stream",
     "text": [
      "Enter a sentence:   How would you like to take a ride to the store?\n"
     ]
    },
    {
     "name": "stdout",
     "output_type": "stream",
     "text": [
      "The sentence contains 11 words.\n"
     ]
    }
   ],
   "source": [
    "#Create a Word Counter\n",
    "\n",
    "def word_counter():\n",
    "    \n",
    "    sentence = input('Enter a sentence:  ')\n",
    "\n",
    "    a = sentence.split()\n",
    "\n",
    "    word_count = len(a)\n",
    "\n",
    "    print(f'The sentence contains {word_count} words.')\n",
    "\n",
    "word_counter()"
   ]
  },
  {
   "cell_type": "code",
   "execution_count": null,
   "id": "f9b3d277-e482-497e-b45f-3c064b71beda",
   "metadata": {},
   "outputs": [],
   "source": []
  }
 ],
 "metadata": {
  "kernelspec": {
   "display_name": "Python 3 (ipykernel)",
   "language": "python",
   "name": "python3"
  },
  "language_info": {
   "codemirror_mode": {
    "name": "ipython",
    "version": 3
   },
   "file_extension": ".py",
   "mimetype": "text/x-python",
   "name": "python",
   "nbconvert_exporter": "python",
   "pygments_lexer": "ipython3",
   "version": "3.12.6"
  }
 },
 "nbformat": 4,
 "nbformat_minor": 5
}
