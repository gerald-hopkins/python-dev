{
 "cells": [
  {
   "cell_type": "code",
   "execution_count": 13,
   "id": "a7fd8d4b-09be-46aa-8bc7-2e55f11fcf45",
   "metadata": {},
   "outputs": [
    {
     "name": "stdout",
     "output_type": "stream",
     "text": [
      "Options are: \n",
      "        1. Add a task\n",
      "        2. Display all tasks\n",
      "        3. Remove a task\n",
      "        4. Quit To Do List\n"
     ]
    },
    {
     "name": "stdin",
     "output_type": "stream",
     "text": [
      "Choose an action. 1\n",
      "Enter task. go to store\n"
     ]
    },
    {
     "name": "stdout",
     "output_type": "stream",
     "text": [
      "Task added!\n",
      "Options are: \n",
      "        1. Add a task\n",
      "        2. Display all tasks\n",
      "        3. Remove a task\n",
      "        4. Quit To Do List\n"
     ]
    },
    {
     "name": "stdin",
     "output_type": "stream",
     "text": [
      "Choose an action. 2\n"
     ]
    },
    {
     "name": "stdout",
     "output_type": "stream",
     "text": [
      "\n",
      "Your tasks:\n",
      "1. go to store\n",
      "Options are: \n",
      "        1. Add a task\n",
      "        2. Display all tasks\n",
      "        3. Remove a task\n",
      "        4. Quit To Do List\n"
     ]
    },
    {
     "name": "stdin",
     "output_type": "stream",
     "text": [
      "Choose an action. 8\n"
     ]
    },
    {
     "name": "stdout",
     "output_type": "stream",
     "text": [
      "Invalid choice. Try again.\n",
      "Options are: \n",
      "        1. Add a task\n",
      "        2. Display all tasks\n",
      "        3. Remove a task\n",
      "        4. Quit To Do List\n"
     ]
    },
    {
     "name": "stdin",
     "output_type": "stream",
     "text": [
      "Choose an action. 1\n",
      "Enter task. buy milk\n"
     ]
    },
    {
     "name": "stdout",
     "output_type": "stream",
     "text": [
      "Task added!\n",
      "Options are: \n",
      "        1. Add a task\n",
      "        2. Display all tasks\n",
      "        3. Remove a task\n",
      "        4. Quit To Do List\n"
     ]
    },
    {
     "name": "stdin",
     "output_type": "stream",
     "text": [
      "Choose an action. 2\n"
     ]
    },
    {
     "name": "stdout",
     "output_type": "stream",
     "text": [
      "\n",
      "Your tasks:\n",
      "1. go to store\n",
      "2. buy milk\n",
      "Options are: \n",
      "        1. Add a task\n",
      "        2. Display all tasks\n",
      "        3. Remove a task\n",
      "        4. Quit To Do List\n"
     ]
    },
    {
     "name": "stdin",
     "output_type": "stream",
     "text": [
      "Choose an action. 1\n",
      "Enter task. buy gas for car\n"
     ]
    },
    {
     "name": "stdout",
     "output_type": "stream",
     "text": [
      "Task added!\n",
      "Options are: \n",
      "        1. Add a task\n",
      "        2. Display all tasks\n",
      "        3. Remove a task\n",
      "        4. Quit To Do List\n"
     ]
    },
    {
     "name": "stdin",
     "output_type": "stream",
     "text": [
      "Choose an action. 2\n"
     ]
    },
    {
     "name": "stdout",
     "output_type": "stream",
     "text": [
      "\n",
      "Your tasks:\n",
      "1. go to store\n",
      "2. buy milk\n",
      "3. buy gas for car\n",
      "Options are: \n",
      "        1. Add a task\n",
      "        2. Display all tasks\n",
      "        3. Remove a task\n",
      "        4. Quit To Do List\n"
     ]
    },
    {
     "name": "stdin",
     "output_type": "stream",
     "text": [
      "Choose an action. 1\n",
      "Enter task. come home\n"
     ]
    },
    {
     "name": "stdout",
     "output_type": "stream",
     "text": [
      "Task added!\n",
      "Options are: \n",
      "        1. Add a task\n",
      "        2. Display all tasks\n",
      "        3. Remove a task\n",
      "        4. Quit To Do List\n"
     ]
    },
    {
     "name": "stdin",
     "output_type": "stream",
     "text": [
      "Choose an action. 2\n"
     ]
    },
    {
     "name": "stdout",
     "output_type": "stream",
     "text": [
      "\n",
      "Your tasks:\n",
      "1. go to store\n",
      "2. buy milk\n",
      "3. buy gas for car\n",
      "4. come home\n",
      "Options are: \n",
      "        1. Add a task\n",
      "        2. Display all tasks\n",
      "        3. Remove a task\n",
      "        4. Quit To Do List\n"
     ]
    },
    {
     "name": "stdin",
     "output_type": "stream",
     "text": [
      "Choose an action. 3\n"
     ]
    },
    {
     "name": "stdout",
     "output_type": "stream",
     "text": [
      "\n",
      "Your tasks:\n",
      "1. go to store\n",
      "2. buy milk\n",
      "3. buy gas for car\n",
      "4. come home\n"
     ]
    },
    {
     "name": "stdin",
     "output_type": "stream",
     "text": [
      "Enter task number to be deleted. 3\n"
     ]
    },
    {
     "name": "stdout",
     "output_type": "stream",
     "text": [
      "Task - buy gas for car was deleted.\n",
      "Options are: \n",
      "        1. Add a task\n",
      "        2. Display all tasks\n",
      "        3. Remove a task\n",
      "        4. Quit To Do List\n"
     ]
    },
    {
     "name": "stdin",
     "output_type": "stream",
     "text": [
      "Choose an action. 2\n"
     ]
    },
    {
     "name": "stdout",
     "output_type": "stream",
     "text": [
      "\n",
      "Your tasks:\n",
      "1. go to store\n",
      "2. buy milk\n",
      "3. come home\n",
      "Options are: \n",
      "        1. Add a task\n",
      "        2. Display all tasks\n",
      "        3. Remove a task\n",
      "        4. Quit To Do List\n"
     ]
    },
    {
     "name": "stdin",
     "output_type": "stream",
     "text": [
      "Choose an action. 3\n"
     ]
    },
    {
     "name": "stdout",
     "output_type": "stream",
     "text": [
      "\n",
      "Your tasks:\n",
      "1. go to store\n",
      "2. buy milk\n",
      "3. come home\n"
     ]
    },
    {
     "name": "stdin",
     "output_type": "stream",
     "text": [
      "Enter task number to be deleted. 1\n"
     ]
    },
    {
     "name": "stdout",
     "output_type": "stream",
     "text": [
      "Task - go to store was deleted.\n",
      "Options are: \n",
      "        1. Add a task\n",
      "        2. Display all tasks\n",
      "        3. Remove a task\n",
      "        4. Quit To Do List\n"
     ]
    },
    {
     "name": "stdin",
     "output_type": "stream",
     "text": [
      "Choose an action. 2\n"
     ]
    },
    {
     "name": "stdout",
     "output_type": "stream",
     "text": [
      "\n",
      "Your tasks:\n",
      "1. buy milk\n",
      "2. come home\n",
      "Options are: \n",
      "        1. Add a task\n",
      "        2. Display all tasks\n",
      "        3. Remove a task\n",
      "        4. Quit To Do List\n"
     ]
    },
    {
     "name": "stdin",
     "output_type": "stream",
     "text": [
      "Choose an action. 1\n",
      "Enter task. buy fish food\n"
     ]
    },
    {
     "name": "stdout",
     "output_type": "stream",
     "text": [
      "Task added!\n",
      "Options are: \n",
      "        1. Add a task\n",
      "        2. Display all tasks\n",
      "        3. Remove a task\n",
      "        4. Quit To Do List\n"
     ]
    },
    {
     "name": "stdin",
     "output_type": "stream",
     "text": [
      "Choose an action. 2\n"
     ]
    },
    {
     "name": "stdout",
     "output_type": "stream",
     "text": [
      "\n",
      "Your tasks:\n",
      "1. buy milk\n",
      "2. come home\n",
      "3. buy fish food\n",
      "Options are: \n",
      "        1. Add a task\n",
      "        2. Display all tasks\n",
      "        3. Remove a task\n",
      "        4. Quit To Do List\n"
     ]
    },
    {
     "name": "stdin",
     "output_type": "stream",
     "text": [
      "Choose an action. 3\n"
     ]
    },
    {
     "name": "stdout",
     "output_type": "stream",
     "text": [
      "\n",
      "Your tasks:\n",
      "1. buy milk\n",
      "2. come home\n",
      "3. buy fish food\n"
     ]
    },
    {
     "name": "stdin",
     "output_type": "stream",
     "text": [
      "Enter task number to be deleted. 2\n"
     ]
    },
    {
     "name": "stdout",
     "output_type": "stream",
     "text": [
      "Task - come home was deleted.\n",
      "Options are: \n",
      "        1. Add a task\n",
      "        2. Display all tasks\n",
      "        3. Remove a task\n",
      "        4. Quit To Do List\n"
     ]
    },
    {
     "name": "stdin",
     "output_type": "stream",
     "text": [
      "Choose an action. 2\n"
     ]
    },
    {
     "name": "stdout",
     "output_type": "stream",
     "text": [
      "\n",
      "Your tasks:\n",
      "1. buy milk\n",
      "2. buy fish food\n",
      "Options are: \n",
      "        1. Add a task\n",
      "        2. Display all tasks\n",
      "        3. Remove a task\n",
      "        4. Quit To Do List\n"
     ]
    },
    {
     "name": "stdin",
     "output_type": "stream",
     "text": [
      "Choose an action. 3\n"
     ]
    },
    {
     "name": "stdout",
     "output_type": "stream",
     "text": [
      "\n",
      "Your tasks:\n",
      "1. buy milk\n",
      "2. buy fish food\n"
     ]
    },
    {
     "name": "stdin",
     "output_type": "stream",
     "text": [
      "Enter task number to be deleted. 1\n"
     ]
    },
    {
     "name": "stdout",
     "output_type": "stream",
     "text": [
      "Task - buy milk was deleted.\n",
      "Options are: \n",
      "        1. Add a task\n",
      "        2. Display all tasks\n",
      "        3. Remove a task\n",
      "        4. Quit To Do List\n"
     ]
    },
    {
     "name": "stdin",
     "output_type": "stream",
     "text": [
      "Choose an action. 2\n"
     ]
    },
    {
     "name": "stdout",
     "output_type": "stream",
     "text": [
      "\n",
      "Your tasks:\n",
      "1. buy fish food\n",
      "Options are: \n",
      "        1. Add a task\n",
      "        2. Display all tasks\n",
      "        3. Remove a task\n",
      "        4. Quit To Do List\n"
     ]
    },
    {
     "name": "stdin",
     "output_type": "stream",
     "text": [
      "Choose an action. 3\n"
     ]
    },
    {
     "name": "stdout",
     "output_type": "stream",
     "text": [
      "\n",
      "Your tasks:\n",
      "1. buy fish food\n"
     ]
    },
    {
     "name": "stdin",
     "output_type": "stream",
     "text": [
      "Enter task number to be deleted. 1\n"
     ]
    },
    {
     "name": "stdout",
     "output_type": "stream",
     "text": [
      "Task - buy fish food was deleted.\n",
      "Options are: \n",
      "        1. Add a task\n",
      "        2. Display all tasks\n",
      "        3. Remove a task\n",
      "        4. Quit To Do List\n"
     ]
    },
    {
     "name": "stdin",
     "output_type": "stream",
     "text": [
      "Choose an action. 2\n"
     ]
    },
    {
     "name": "stdout",
     "output_type": "stream",
     "text": [
      "Your to do list is empty.\n",
      "Options are: \n",
      "        1. Add a task\n",
      "        2. Display all tasks\n",
      "        3. Remove a task\n",
      "        4. Quit To Do List\n"
     ]
    },
    {
     "name": "stdin",
     "output_type": "stream",
     "text": [
      "Choose an action. 3\n"
     ]
    },
    {
     "name": "stdout",
     "output_type": "stream",
     "text": [
      "Your to do list is empty.\n",
      "Options are: \n",
      "        1. Add a task\n",
      "        2. Display all tasks\n",
      "        3. Remove a task\n",
      "        4. Quit To Do List\n"
     ]
    },
    {
     "name": "stdin",
     "output_type": "stream",
     "text": [
      "Choose an action. 4\n"
     ]
    },
    {
     "name": "stdout",
     "output_type": "stream",
     "text": [
      "Goodbye\n"
     ]
    }
   ],
   "source": [
    "'''\n",
    "Create a Simple To-Do List\n",
    "\n",
    "Allows the user to add tasks to a to-do list.\n",
    "Displays the list of tasks.\n",
    "Allows the user to remove tasks by specifying their position in the list.\n",
    "Repeats until the user chooses to exit.\n",
    "'''\n",
    "\n",
    "def to_do_list():\n",
    "\n",
    "    tasks = []\n",
    "    \n",
    "    while True:\n",
    "\n",
    "        print('''Options are: \n",
    "        1. Add a task\n",
    "        2. Display all tasks\n",
    "        3. Remove a task\n",
    "        4. Quit To Do List''')\n",
    "   \n",
    "        menu_choice = int(input('Choose an action.'))\n",
    "\n",
    "        if menu_choice == 1:\n",
    "            new_task = input('Enter task.')\n",
    "            tasks.append(new_task)\n",
    "            print('Task added!')\n",
    "            #continue\n",
    "            \n",
    "        elif menu_choice == 2:\n",
    "            if tasks:\n",
    "                print('\\nYour tasks:')\n",
    "                for i, task in enumerate(tasks, start = 1):\n",
    "                    print(f'{i}. {task}')\n",
    "            else:\n",
    "                print('Your to do list is empty.')\n",
    "        \n",
    "        elif menu_choice == 3:\n",
    "            if tasks:\n",
    "                print('\\nYour tasks:')\n",
    "                for i, task in enumerate(tasks, start = 1):\n",
    "                    print(f'{i}. {task}')\n",
    "\n",
    "                try:\n",
    "                    \n",
    "                    delete_task = int(input('Enter task number to be deleted.'))\n",
    "                \n",
    "                    if 1 <= delete_task <= len(tasks):\n",
    "                        deleted_task = tasks.pop(delete_task-1)\n",
    "                        print(f'Task - {deleted_task} was deleted.')\n",
    "\n",
    "                    else:\n",
    "                        print('Invalid task number.')\n",
    "\n",
    "                except ValueError:\n",
    "                    print('Enter a vaild number.')\n",
    "\n",
    "            else:\n",
    "                print('Your to do list is empty.')\n",
    "        \n",
    "        elif menu_choice == 4:\n",
    "            print('Goodbye')\n",
    "            break\n",
    "        \n",
    "        else:\n",
    "            print('Invalid choice. Try again.')\n",
    "    \n",
    "# run the To Do List\n",
    "to_do_list()"
   ]
  },
  {
   "cell_type": "code",
   "execution_count": null,
   "id": "d4801713-0214-471d-be30-b028e9f52c63",
   "metadata": {},
   "outputs": [],
   "source": []
  }
 ],
 "metadata": {
  "kernelspec": {
   "display_name": "Python 3 (ipykernel)",
   "language": "python",
   "name": "python3"
  },
  "language_info": {
   "codemirror_mode": {
    "name": "ipython",
    "version": 3
   },
   "file_extension": ".py",
   "mimetype": "text/x-python",
   "name": "python",
   "nbconvert_exporter": "python",
   "pygments_lexer": "ipython3",
   "version": "3.12.6"
  }
 },
 "nbformat": 4,
 "nbformat_minor": 5
}
