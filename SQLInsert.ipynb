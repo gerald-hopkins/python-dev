{
 "cells": [
  {
   "cell_type": "code",
   "execution_count": 1,
   "id": "0a58629e-d309-4268-b5a8-01730edbbc45",
   "metadata": {},
   "outputs": [
    {
     "ename": "ImportError",
     "evalue": "dlopen(/Library/Frameworks/Python.framework/Versions/3.12/lib/python3.12/site-packages/pyodbc.cpython-312-darwin.so, 0x0002): Library not loaded: /opt/homebrew/opt/unixodbc/lib/libodbc.2.dylib\n  Referenced from: <BF9C7575-1B4B-3BB9-96FC-3AD8BBD04095> /Library/Frameworks/Python.framework/Versions/3.12/lib/python3.12/site-packages/pyodbc.cpython-312-darwin.so\n  Reason: tried: '/opt/homebrew/opt/unixodbc/lib/libodbc.2.dylib' (no such file), '/System/Volumes/Preboot/Cryptexes/OS/opt/homebrew/opt/unixodbc/lib/libodbc.2.dylib' (no such file), '/opt/homebrew/opt/unixodbc/lib/libodbc.2.dylib' (no such file)",
     "output_type": "error",
     "traceback": [
      "\u001b[0;31m---------------------------------------------------------------------------\u001b[0m",
      "\u001b[0;31mImportError\u001b[0m                               Traceback (most recent call last)",
      "Cell \u001b[0;32mIn[1], line 2\u001b[0m\n\u001b[1;32m      1\u001b[0m \u001b[38;5;28;01mimport\u001b[39;00m \u001b[38;5;21;01mpandas\u001b[39;00m \u001b[38;5;28;01mas\u001b[39;00m \u001b[38;5;21;01mpd\u001b[39;00m\n\u001b[0;32m----> 2\u001b[0m \u001b[38;5;28;01mimport\u001b[39;00m \u001b[38;5;21;01mpyodbc\u001b[39;00m\n\u001b[1;32m      4\u001b[0m \u001b[38;5;66;03m# Database connection parameters\u001b[39;00m\n\u001b[1;32m      5\u001b[0m server \u001b[38;5;241m=\u001b[39m \u001b[38;5;124m'\u001b[39m\u001b[38;5;124mgerald.database.windows.net\u001b[39m\u001b[38;5;124m'\u001b[39m\n",
      "\u001b[0;31mImportError\u001b[0m: dlopen(/Library/Frameworks/Python.framework/Versions/3.12/lib/python3.12/site-packages/pyodbc.cpython-312-darwin.so, 0x0002): Library not loaded: /opt/homebrew/opt/unixodbc/lib/libodbc.2.dylib\n  Referenced from: <BF9C7575-1B4B-3BB9-96FC-3AD8BBD04095> /Library/Frameworks/Python.framework/Versions/3.12/lib/python3.12/site-packages/pyodbc.cpython-312-darwin.so\n  Reason: tried: '/opt/homebrew/opt/unixodbc/lib/libodbc.2.dylib' (no such file), '/System/Volumes/Preboot/Cryptexes/OS/opt/homebrew/opt/unixodbc/lib/libodbc.2.dylib' (no such file), '/opt/homebrew/opt/unixodbc/lib/libodbc.2.dylib' (no such file)"
     ]
    }
   ],
   "source": [
    "import pandas as pd\n",
    "import pyodbc\n",
    "\n",
    "# Database connection parameters\n",
    "server = 'gerald.database.windows.net,1433'\n",
    "database = 'customers'\n",
    "username = 'gerald_admin'\n",
    "password = 'Saints09!'\n",
    "driver = '{ODBC Driver 17 for SQL Server}'\n",
    "\n",
    "# Create a connection string\n",
    "conn_str = f'Driver={driver};Server={server};Database={database};Uid={username};Pwd={password};Encrypt=yes;TrustServerCertificate=no;Connection Timeout=30;'\n",
    "\n",
    "# Establish a connection to the database\n",
    "with pyodbc.connect(conn_str) as conn:\n",
    "    cursor = conn.cursor()\n",
    "\n",
    "    # Load data from CSV file\n",
    "    csv_file_path = '/Users/geraldhopkins/downloads/SQLInsert_employees.rtf'  # Update with your CSV file path\n",
    "    df = pd.read_csv(csv_file_path)\n",
    "\n",
    "    # Insert all records into the employees table\n",
    "    for index, row in df.iterrows():\n",
    "        # Assuming the employees table has columns: id, name, position, and salary\n",
    "        cursor.execute('''\n",
    "            INSERT INTO employees (first_name, last_name, email, phone_number, hire_date, job_title, salary)\n",
    "            VALUES (?, ?, ?, ?, ?, ?, ?)\n",
    "        ''', row['first_name'], row['last_name'], row['email'], row['phone_number'], row['hire_date'], row['salary'])\n",
    "\n",
    "    # Commit the transaction\n",
    "    conn.commit()\n",
    "\n",
    "print(\"All records inserted successfully.\")\n",
    "\n",
    "\n",
    "\n",
    "\n",
    "\n",
    "\n"
   ]
  },
  {
   "cell_type": "code",
   "execution_count": null,
   "id": "0458cfa1-f02e-4e0f-bae4-ea0263381d12",
   "metadata": {},
   "outputs": [],
   "source": []
  },
  {
   "cell_type": "code",
   "execution_count": null,
   "id": "98d1b248-a92c-4831-8adb-064c8633cdd3",
   "metadata": {},
   "outputs": [],
   "source": []
  }
 ],
 "metadata": {
  "kernelspec": {
   "display_name": "Python 3 (ipykernel)",
   "language": "python",
   "name": "python3"
  },
  "language_info": {
   "codemirror_mode": {
    "name": "ipython",
    "version": 3
   },
   "file_extension": ".py",
   "mimetype": "text/x-python",
   "name": "python",
   "nbconvert_exporter": "python",
   "pygments_lexer": "ipython3",
   "version": "3.12.6"
  }
 },
 "nbformat": 4,
 "nbformat_minor": 5
}
